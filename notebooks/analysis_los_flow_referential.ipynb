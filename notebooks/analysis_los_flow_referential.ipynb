{
 "cells": [
  {
   "cell_type": "code",
   "execution_count": 1,
   "metadata": {},
   "outputs": [
    {
     "name": "stderr",
     "output_type": "stream",
     "text": [
      "/tmp/ipykernel_5421/251887701.py:4: TqdmExperimentalWarning: Using `tqdm.autonotebook.tqdm` in notebook mode. Use `tqdm.tqdm` instead to force console mode (e.g. in jupyter console)\n",
      "  from tqdm.autonotebook import tqdm\n"
     ]
    }
   ],
   "source": [
    "import matplotlib.pyplot as plt\n",
    "import numpy as np\n",
    "import pandas as pd\n",
    "from tqdm.autonotebook import tqdm \n",
    "\n",
    "from traffic.core import Traffic"
   ]
  },
  {
   "cell_type": "code",
   "execution_count": 10,
   "metadata": {},
   "outputs": [],
   "source": [
    "generated1 = Traffic.from_file(\"../los_generation/traffic_MC_0.parquet\")\n",
    "generated2 = Traffic.from_file(\"../los_generation/traffic_MC_1.parquet\")\n",
    "generated3 = Traffic.from_file(\"../los_generation/traffic_MC_2.parquet\")\n",
    "generated4 = Traffic.from_file(\"../los_generation/traffic_MC_3.parquet\")\n",
    "generated5 = Traffic.from_file(\"../los_generation/traffic_MC_4.parquet\")"
   ]
  },
  {
   "cell_type": "code",
   "execution_count": null,
   "metadata": {},
   "outputs": [],
   "source": [
    "# Getting unique flight_id\n",
    "\n",
    "generated1 = generated1.assign(flight_id = lambda df: df.flight_id + \"_MC_0\")\n",
    "generated2 = generated2.assign(flight_id = lambda df: df.flight_id + \"_MC_1\")\n",
    "generated3 = generated3.assign(flight_id = lambda df: df.flight_id + \"_MC_2\")\n",
    "generated4 = generated4.assign(flight_id = lambda df: df.flight_id + \"_MC_3\")\n",
    "generated5 = generated5.assign(flight_id = lambda df: df.flight_id + \"_MC_4\")"
   ]
  },
  {
   "cell_type": "code",
   "execution_count": 13,
   "metadata": {},
   "outputs": [],
   "source": [
    "generated1.to_parquet(\"traffic_MC_0.parquet\")\n",
    "generated2.to_parquet(\"traffic_MC_1.parquet\")\n",
    "generated3.to_parquet(\"traffic_MC_2.parquet\")\n",
    "generated4.to_parquet(\"traffic_MC_3.parquet\")\n",
    "generated5.to_parquet(\"traffic_MC_4.parquet\")"
   ]
  },
  {
   "cell_type": "code",
   "execution_count": 21,
   "metadata": {},
   "outputs": [
    {
     "data": {
      "application/vnd.jupyter.widget-view+json": {
       "model_id": "e58b2f2c32754ac99a12d4cf5e45a053",
       "version_major": 2,
       "version_minor": 0
      },
      "text/plain": [
       "Map(center=[48.466445650819345, 2.424221452537494], controls=(ZoomControl(options=['position', 'zoom_in_text',…"
      ]
     },
     "metadata": {},
     "output_type": "display_data"
    }
   ],
   "source": [
    "from traffic.data import airports\n",
    "from ipyleaflet import  Marker, Polygon\n",
    "from ipywidgets import Layout\n",
    "\n",
    "\n",
    "disp_t = gen_ldng[:5] + gen_to[:5]\n",
    "map = disp_t.map_leaflet()\n",
    "\n",
    "polygon = Polygon(\n",
    "    locations=[(48.580030, 2.221770), (48.437099, 2.163190), (48.293011, 2.418050), (48.267231,2.695350), (48.541458,2.660290), (48.6102599,2.474805)],\n",
    "    color=\"green\",\n",
    "    fill_color=\"green\"\n",
    ")\n",
    "\n",
    "map.add_layer(Marker(location=airports[\"LFPO\"].latlon))\n",
    "\n",
    "map.add_layer(polygon)\n",
    "\n",
    "map"
   ]
  },
  {
   "cell_type": "code",
   "execution_count": 19,
   "metadata": {},
   "outputs": [
    {
     "name": "stdout",
     "output_type": "stream",
     "text": [
      "2e-06 0.7071060740794128\n"
     ]
    }
   ],
   "source": [
    "count = 2\n",
    "N = 1e6\n",
    "p = count/N\n",
    "c = np.sqrt((1-p)/(N*p)) \n",
    "print(p, c)"
   ]
  },
  {
   "cell_type": "code",
   "execution_count": 3,
   "metadata": {},
   "outputs": [
    {
     "data": {
      "text/plain": [
       "999899.9999999999"
      ]
     },
     "execution_count": 3,
     "metadata": {},
     "output_type": "execute_result"
    }
   ],
   "source": [
    "p = 1e-4\n",
    "er = 0.1\n",
    "N = (1-p)/(p*er**2)\n",
    "N"
   ]
  },
  {
   "cell_type": "code",
   "execution_count": 7,
   "metadata": {},
   "outputs": [],
   "source": [
    "starts_gen_to = gen_to.data.groupby(\"flight_id\")[\"timestamp\"].first().sort_values()\n",
    "starts_gen_ldng = gen_ldng.data.groupby(\"flight_id\")[\"timestamp\"].first().sort_values()\n",
    "ends_gen_ldng = gen_ldng.data.groupby(\"flight_id\")[\"timestamp\"].last().sort_values()\n",
    "ends_gen_to = gen_to.data.groupby(\"flight_id\")[\"timestamp\"].last().sort_values()"
   ]
  },
  {
   "cell_type": "code",
   "execution_count": 8,
   "metadata": {},
   "outputs": [
    {
     "name": "stdout",
     "output_type": "stream",
     "text": [
      "0 0\n"
     ]
    }
   ],
   "source": [
    "print(starts_gen_to.duplicated().values.sum(), ends_gen_ldng.duplicated().values.sum())"
   ]
  },
  {
   "cell_type": "code",
   "execution_count": 9,
   "metadata": {},
   "outputs": [
    {
     "name": "stdout",
     "output_type": "stream",
     "text": [
      "1903-03-18 07:58:55+00:00 1903-03-14 05:41:45+00:00\n"
     ]
    }
   ],
   "source": [
    "print(ends_gen_ldng[-1], ends_gen_to[-1]) "
   ]
  },
  {
   "cell_type": "code",
   "execution_count": 14,
   "metadata": {},
   "outputs": [
    {
     "data": {
      "text/html": [
       "<h4><b>Traffic</b></h4> with 199355 identifiers<style type=\"text/css\">\n",
       "#T_47de6_row0_col0, #T_47de6_row1_col0, #T_47de6_row2_col0, #T_47de6_row3_col0, #T_47de6_row4_col0, #T_47de6_row5_col0, #T_47de6_row6_col0, #T_47de6_row7_col0, #T_47de6_row8_col0, #T_47de6_row9_col0 {\n",
       "  width: 10em;\n",
       "  background: linear-gradient(90deg, #5fba7d 100.0%, transparent 100.0%);\n",
       "}\n",
       "</style>\n",
       "<table id=\"T_47de6\">\n",
       "  <thead>\n",
       "    <tr>\n",
       "      <th class=\"blank level0\" >&nbsp;</th>\n",
       "      <th id=\"T_47de6_level0_col0\" class=\"col_heading level0 col0\" >count</th>\n",
       "    </tr>\n",
       "    <tr>\n",
       "      <th class=\"index_name level0\" >flight_id</th>\n",
       "      <th class=\"blank col0\" >&nbsp;</th>\n",
       "    </tr>\n",
       "  </thead>\n",
       "  <tbody>\n",
       "    <tr>\n",
       "      <th id=\"T_47de6_level0_row0\" class=\"row_heading level0 row0\" >LDNG_TRAJ_185756</th>\n",
       "      <td id=\"T_47de6_row0_col0\" class=\"data row0 col0\" >375</td>\n",
       "    </tr>\n",
       "    <tr>\n",
       "      <th id=\"T_47de6_level0_row1\" class=\"row_heading level0 row1\" >LDNG_TRAJ_126039</th>\n",
       "      <td id=\"T_47de6_row1_col0\" class=\"data row1 col0\" >375</td>\n",
       "    </tr>\n",
       "    <tr>\n",
       "      <th id=\"T_47de6_level0_row2\" class=\"row_heading level0 row2\" >LDNG_TRAJ_21767</th>\n",
       "      <td id=\"T_47de6_row2_col0\" class=\"data row2 col0\" >375</td>\n",
       "    </tr>\n",
       "    <tr>\n",
       "      <th id=\"T_47de6_level0_row3\" class=\"row_heading level0 row3\" >LDNG_TRAJ_170421</th>\n",
       "      <td id=\"T_47de6_row3_col0\" class=\"data row3 col0\" >375</td>\n",
       "    </tr>\n",
       "    <tr>\n",
       "      <th id=\"T_47de6_level0_row4\" class=\"row_heading level0 row4\" >LDNG_TRAJ_141198</th>\n",
       "      <td id=\"T_47de6_row4_col0\" class=\"data row4 col0\" >375</td>\n",
       "    </tr>\n",
       "    <tr>\n",
       "      <th id=\"T_47de6_level0_row5\" class=\"row_heading level0 row5\" >LDNG_TRAJ_1948</th>\n",
       "      <td id=\"T_47de6_row5_col0\" class=\"data row5 col0\" >375</td>\n",
       "    </tr>\n",
       "    <tr>\n",
       "      <th id=\"T_47de6_level0_row6\" class=\"row_heading level0 row6\" >LDNG_TRAJ_110873</th>\n",
       "      <td id=\"T_47de6_row6_col0\" class=\"data row6 col0\" >375</td>\n",
       "    </tr>\n",
       "    <tr>\n",
       "      <th id=\"T_47de6_level0_row7\" class=\"row_heading level0 row7\" >LDNG_TRAJ_151980</th>\n",
       "      <td id=\"T_47de6_row7_col0\" class=\"data row7 col0\" >375</td>\n",
       "    </tr>\n",
       "    <tr>\n",
       "      <th id=\"T_47de6_level0_row8\" class=\"row_heading level0 row8\" >LDNG_TRAJ_152167</th>\n",
       "      <td id=\"T_47de6_row8_col0\" class=\"data row8 col0\" >375</td>\n",
       "    </tr>\n",
       "    <tr>\n",
       "      <th id=\"T_47de6_level0_row9\" class=\"row_heading level0 row9\" >LDNG_TRAJ_194877</th>\n",
       "      <td id=\"T_47de6_row9_col0\" class=\"data row9 col0\" >375</td>\n",
       "    </tr>\n",
       "  </tbody>\n",
       "</table>\n"
      ],
      "text/plain": [
       "          flight_id  count\n",
       "0  LDNG_TRAJ_185756    375\n",
       "1  LDNG_TRAJ_126039    375\n",
       "2   LDNG_TRAJ_21767    375\n",
       "3  LDNG_TRAJ_170421    375\n",
       "4  LDNG_TRAJ_141198    375\n",
       "5    LDNG_TRAJ_1948    375\n",
       "6  LDNG_TRAJ_110873    375\n",
       "7  LDNG_TRAJ_151980    375\n",
       "8  LDNG_TRAJ_152167    375\n",
       "9  LDNG_TRAJ_194877    375"
      ]
     },
     "execution_count": 14,
     "metadata": {},
     "output_type": "execute_result"
    }
   ],
   "source": [
    "effective = gen_ldng.query('timestamp < \"2025-12-02 06:53:10+0000\"')\n",
    "effective"
   ]
  },
  {
   "cell_type": "markdown",
   "metadata": {},
   "source": [
    "# Time differences between pairs takeoffs/landings"
   ]
  },
  {
   "cell_type": "code",
   "execution_count": 33,
   "metadata": {},
   "outputs": [
    {
     "data": {
      "application/vnd.jupyter.widget-view+json": {
       "model_id": "3744f7b74619496eb61cc9010b44748d",
       "version_major": 2,
       "version_minor": 0
      },
      "text/plain": [
       "0it [00:00, ?it/s]"
      ]
     },
     "metadata": {},
     "output_type": "display_data"
    }
   ],
   "source": [
    "import pandas as pd\n",
    "\n",
    "delta_t = []\n",
    "\n",
    "# first landings\n",
    "for iL, tL in tqdm(starts_gen_ldng[:5000].items()):\n",
    "    for iT, tT in starts_gen_to[:5000].items():\n",
    "        d = tL - tT\n",
    "\n",
    "        #If delta_t is posiive, takeoff starts AFTER landing, and then delta_t cannot be larger than landing duration\n",
    "        #If delta_t is negative, takeoff starts BEFORE landing, and then delta_t cannot be larger than takeoff duration (absolute value)\n",
    "        if d < tT - ends_gen_to[iT] or (d > ends_gen_ldng[iL] - tL):\n",
    "            pass\n",
    "\n",
    "        #make sure that delta_t is smaller than the total duration of the reference (the takeoff)\n",
    "        elif d < ends_gen_ldng[iL] - tL: \n",
    "            delta_t.append({\"takeoff\": iT, \"landing\":iL, \"delta_t\":d.total_seconds()})\n",
    "\n",
    "delta_t = pd.DataFrame(delta_t)"
   ]
  },
  {
   "cell_type": "code",
   "execution_count": 34,
   "metadata": {},
   "outputs": [
    {
     "data": {
      "image/png": "[encoded data removed]",
      "text/plain": [
       "<Figure size 640x480 with 1 Axes>"
      ]
     },
     "metadata": {},
     "output_type": "display_data"
    }
   ],
   "source": [
    "delta_t.delta_t.hist(bins = 100)\n",
    "plt.show()"
   ]
  },
  {
   "cell_type": "markdown",
   "metadata": {},
   "source": [
    "Delta_t between pairs is pretty similar when parametrizing flows or directly estimating the delta_t between pairs"
   ]
  },
  {
   "cell_type": "markdown",
   "metadata": {},
   "source": [
    "# Horizontal intersection"
   ]
  },
  {
   "cell_type": "code",
   "execution_count": 4,
   "metadata": {},
   "outputs": [],
   "source": [
    "n = 5000\n",
    "small_to = gen_to[:n]\n",
    "small_landing = gen_ldng[:n]"
   ]
  },
  {
   "cell_type": "code",
   "execution_count": 5,
   "metadata": {},
   "outputs": [
    {
     "data": {
      "application/vnd.jupyter.widget-view+json": {
       "model_id": "098804311b96496eba8497f44d0faa64",
       "version_major": 2,
       "version_minor": 0
      },
      "text/plain": [
       "0it [00:00, ?it/s]"
      ]
     },
     "metadata": {},
     "output_type": "display_data"
    }
   ],
   "source": [
    "import pandas as pd\n",
    "from shapely.geometry import LineString, Point\n",
    "from tqdm.autonotebook import tqdm \n",
    "\n",
    "intersect = []\n",
    "\n",
    "for f1, f2 in tqdm(zip(small_to, small_landing)):\n",
    "    inter = f1.shape.intersection(f2.shape)\n",
    "    if isinstance(inter, Point):\n",
    "        intersect.append({\"lat\": inter.y, \"lon\":inter.x})\n"
   ]
  },
  {
   "cell_type": "code",
   "execution_count": 12,
   "metadata": {},
   "outputs": [
    {
     "data": {
      "application/vnd.jupyter.widget-view+json": {
       "model_id": "6a8b15ccc5014730ad66fabeae574942",
       "version_major": 2,
       "version_minor": 0
      },
      "text/plain": [
       "Map(center=[48.7233333, 2.3794444], controls=(ZoomControl(options=['position', 'zoom_in_text', 'zoom_in_title'…"
      ]
     },
     "metadata": {},
     "output_type": "display_data"
    }
   ],
   "source": [
    "from traffic.data import airports\n",
    "from ipyleaflet import Map, basemaps, Marker, MarkerCluster, Polygon\n",
    "from ipywidgets import Layout\n",
    "\n",
    "\n",
    "\n",
    "map_ = Map(\n",
    "    center=airports[\"LFPO\"].latlon,\n",
    "    zoom=10,\n",
    "    basemap=basemaps.Stamen.Terrain,\n",
    "    layout=Layout(width=\"100%\", height=\"1000px\"),\n",
    ")\n",
    "\n",
    "# for i in range(10):\n",
    "#     map_.add_layer(small_to[i])\n",
    "#     map_.add_layer(small_landing[i])\n",
    "\n",
    "markers = []\n",
    "for l in intersect[:1000]:\n",
    "    markers.append(Marker(location=(l[\"lat\"], l[\"lon\"]))) \n",
    "\n",
    "marker_cluster = MarkerCluster(\n",
    "    markers=markers\n",
    ")\n",
    "map_.add_layer(marker_cluster)\n",
    "\n",
    "lat = [48.580030,48.437099,48.293011,48.267231,48.541458, 48.6102599]\n",
    "lon = [2.221770,2.163190,2.418050,2.695350, 2.660290, 2.474805]\n",
    "\n",
    "# boundings of bbox based on cities: Egly, Etampes, Malesherbes, Nemours, Melun, Corbeil-Essonnes\n",
    "polygon = Polygon(\n",
    "    locations=[(48.580030, 2.221770), (48.437099, 2.163190), (48.293011, 2.418050), (48.267231,2.695350), (48.541458,2.660290), (48.6102599,2.474805)],\n",
    "    color=\"green\",\n",
    "    fill_color=\"green\"\n",
    ")\n",
    "\n",
    "map_.add_layer(polygon)\n",
    "\n",
    "map_"
   ]
  },
  {
   "cell_type": "code",
   "execution_count": 7,
   "metadata": {},
   "outputs": [],
   "source": [
    "from shapely.geometry import Polygon\n",
    "\n",
    "df_intersect = pd.DataFrame(intersect)\n",
    "lat_min, lat_max, lon_min, lon_max = df_intersect.lat.min(), df_intersect.lat.max(), df_intersect.lon.min(), df_intersect.lon.max()\n",
    "\n",
    "lat = [lat_min, lat_max, lat_max, lat_min]\n",
    "lon = [lon_min, lon_min, lon_max, lon_max]\n",
    "poly = Polygon(zip(lon, lat))"
   ]
  },
  {
   "cell_type": "code",
   "execution_count": null,
   "metadata": {},
   "outputs": [],
   "source": [
    "# boundings of bbox based on cities: Egly, Etampes, Malesherbes, Nemours, Melun, Corbeil-Essonnes\n",
    "lat = [48.580030,48.437099,48.293011,48.267231,48.541458, 48.6102599]\n",
    "lon = [2.221770,2.163190,2.418050,2.695350, 2.660290, 2.474805]"
   ]
  },
  {
   "cell_type": "code",
   "execution_count": 9,
   "metadata": {},
   "outputs": [],
   "source": [
    "t_cropped = generated.inside_bbox((poly))"
   ]
  },
  {
   "cell_type": "code",
   "execution_count": 10,
   "metadata": {},
   "outputs": [],
   "source": [
    "t_cropped.to_pickle(\"test_MC_orly_bbox.pkl\")"
   ]
  },
  {
   "cell_type": "code",
   "execution_count": 11,
   "metadata": {},
   "outputs": [
    {
     "data": {
      "text/html": [
       "<h4><b>Traffic</b></h4> with 399996 identifiers<style type=\"text/css\">\n",
       "#T_5c470_row0_col0 {\n",
       "  width: 10em;\n",
       "  background: linear-gradient(90deg, #5fba7d 100.0%, transparent 100.0%);\n",
       "}\n",
       "#T_5c470_row1_col0 {\n",
       "  width: 10em;\n",
       "  background: linear-gradient(90deg, #5fba7d 98.8%, transparent 98.8%);\n",
       "}\n",
       "#T_5c470_row2_col0 {\n",
       "  width: 10em;\n",
       "  background: linear-gradient(90deg, #5fba7d 98.7%, transparent 98.7%);\n",
       "}\n",
       "#T_5c470_row3_col0, #T_5c470_row4_col0, #T_5c470_row5_col0, #T_5c470_row6_col0 {\n",
       "  width: 10em;\n",
       "  background: linear-gradient(90deg, #5fba7d 98.2%, transparent 98.2%);\n",
       "}\n",
       "#T_5c470_row7_col0, #T_5c470_row8_col0, #T_5c470_row9_col0 {\n",
       "  width: 10em;\n",
       "  background: linear-gradient(90deg, #5fba7d 97.8%, transparent 97.8%);\n",
       "}\n",
       "</style>\n",
       "<table id=\"T_5c470\">\n",
       "  <thead>\n",
       "    <tr>\n",
       "      <th class=\"blank level0\" >&nbsp;</th>\n",
       "      <th id=\"T_5c470_level0_col0\" class=\"col_heading level0 col0\" >count</th>\n",
       "    </tr>\n",
       "    <tr>\n",
       "      <th class=\"index_name level0\" >flight_id</th>\n",
       "      <th class=\"blank col0\" >&nbsp;</th>\n",
       "    </tr>\n",
       "  </thead>\n",
       "  <tbody>\n",
       "    <tr>\n",
       "      <th id=\"T_5c470_level0_row0\" class=\"row_heading level0 row0\" >LDNG_TRAJ_193702</th>\n",
       "      <td id=\"T_5c470_row0_col0\" class=\"data row0 col0\" >1470</td>\n",
       "    </tr>\n",
       "    <tr>\n",
       "      <th id=\"T_5c470_level0_row1\" class=\"row_heading level0 row1\" >LDNG_TRAJ_126342</th>\n",
       "      <td id=\"T_5c470_row1_col0\" class=\"data row1 col0\" >1452</td>\n",
       "    </tr>\n",
       "    <tr>\n",
       "      <th id=\"T_5c470_level0_row2\" class=\"row_heading level0 row2\" >LDNG_TRAJ_52448</th>\n",
       "      <td id=\"T_5c470_row2_col0\" class=\"data row2 col0\" >1451</td>\n",
       "    </tr>\n",
       "    <tr>\n",
       "      <th id=\"T_5c470_level0_row3\" class=\"row_heading level0 row3\" >LDNG_TRAJ_72108</th>\n",
       "      <td id=\"T_5c470_row3_col0\" class=\"data row3 col0\" >1444</td>\n",
       "    </tr>\n",
       "    <tr>\n",
       "      <th id=\"T_5c470_level0_row4\" class=\"row_heading level0 row4\" >LDNG_TRAJ_7748</th>\n",
       "      <td id=\"T_5c470_row4_col0\" class=\"data row4 col0\" >1444</td>\n",
       "    </tr>\n",
       "    <tr>\n",
       "      <th id=\"T_5c470_level0_row5\" class=\"row_heading level0 row5\" >LDNG_TRAJ_178280</th>\n",
       "      <td id=\"T_5c470_row5_col0\" class=\"data row5 col0\" >1444</td>\n",
       "    </tr>\n",
       "    <tr>\n",
       "      <th id=\"T_5c470_level0_row6\" class=\"row_heading level0 row6\" >LDNG_TRAJ_19429</th>\n",
       "      <td id=\"T_5c470_row6_col0\" class=\"data row6 col0\" >1443</td>\n",
       "    </tr>\n",
       "    <tr>\n",
       "      <th id=\"T_5c470_level0_row7\" class=\"row_heading level0 row7\" >LDNG_TRAJ_175616</th>\n",
       "      <td id=\"T_5c470_row7_col0\" class=\"data row7 col0\" >1438</td>\n",
       "    </tr>\n",
       "    <tr>\n",
       "      <th id=\"T_5c470_level0_row8\" class=\"row_heading level0 row8\" >LDNG_TRAJ_90633</th>\n",
       "      <td id=\"T_5c470_row8_col0\" class=\"data row8 col0\" >1438</td>\n",
       "    </tr>\n",
       "    <tr>\n",
       "      <th id=\"T_5c470_level0_row9\" class=\"row_heading level0 row9\" >LDNG_TRAJ_19879</th>\n",
       "      <td id=\"T_5c470_row9_col0\" class=\"data row9 col0\" >1437</td>\n",
       "    </tr>\n",
       "  </tbody>\n",
       "</table>\n"
      ],
      "text/plain": [
       "          flight_id  count\n",
       "0  LDNG_TRAJ_193702   1470\n",
       "1  LDNG_TRAJ_126342   1452\n",
       "2   LDNG_TRAJ_52448   1451\n",
       "3   LDNG_TRAJ_72108   1444\n",
       "4    LDNG_TRAJ_7748   1444\n",
       "5  LDNG_TRAJ_178280   1444\n",
       "6   LDNG_TRAJ_19429   1443\n",
       "7  LDNG_TRAJ_175616   1438\n",
       "8   LDNG_TRAJ_90633   1438\n",
       "9   LDNG_TRAJ_19879   1437"
      ]
     },
     "execution_count": 11,
     "metadata": {},
     "output_type": "execute_result"
    }
   ],
   "source": [
    "t_cropped"
   ]
  },
  {
   "cell_type": "code",
   "execution_count": null,
   "metadata": {},
   "outputs": [],
   "source": []
  }
 ],
 "metadata": {
  "kernelspec": {
   "display_name": "Python 3.9.13 ('tcas')",
   "language": "python",
   "name": "python3"
  },
  "language_info": {
   "codemirror_mode": {
    "name": "ipython",
    "version": 3
   },
   "file_extension": ".py",
   "mimetype": "text/x-python",
   "name": "python",
   "nbconvert_exporter": "python",
   "pygments_lexer": "ipython3",
   "version": "3.9.13"
  },
  "orig_nbformat": 4,
  "vscode": {
   "interpreter": {
    "hash": "0a6671a896d78c2485d323f2ffc62bdd1325d269c4236792e18439313d8ecb79"
   }
  }
 },
 "nbformat": 4,
 "nbformat_minor": 2
}

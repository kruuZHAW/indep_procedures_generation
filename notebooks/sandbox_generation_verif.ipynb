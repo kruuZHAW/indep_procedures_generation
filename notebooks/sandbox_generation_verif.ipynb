{
 "cells": [
  {
   "cell_type": "code",
   "execution_count": 3,
   "metadata": {},
   "outputs": [],
   "source": [
    "import matplotlib.pyplot as plt\n",
    "import numpy as np\n",
    "import pandas as pd\n",
    "from tqdm.autonotebook import tqdm \n",
    "\n",
    "from traffic.core import Traffic"
   ]
  },
  {
   "cell_type": "code",
   "execution_count": 4,
   "metadata": {},
   "outputs": [],
   "source": [
    "t1 = Traffic.from_file(\"../deep_traffic_generation/data/training_datasets/landings_south_LFPO_25.pkl\")\n",
    "t1_gen = Traffic.from_file(\"../deep_traffic_generation/data/generated_datasets/gen_ldng_LFPO_25_1.pkl\")\n",
    "\n",
    "t2 = Traffic.from_file(\"../deep_traffic_generation/data/training_datasets/takeoffs_south_LFPO_24.pkl\")\n",
    "t2_gen = Traffic.from_file(\"../deep_traffic_generation/data/generated_datasets/gen_to_LFPO_24_1.pkl\")"
   ]
  },
  {
   "cell_type": "code",
   "execution_count": 29,
   "metadata": {},
   "outputs": [
    {
     "data": {
      "application/vnd.jupyter.widget-view+json": {
       "model_id": "f65db06ccf15480dbaae0147e261a1b0",
       "version_major": 2,
       "version_minor": 0
      },
      "text/plain": [
       "Map(center=[48.3953264874153, 2.2930871053072575], controls=(ZoomControl(options=['position', 'zoom_in_text', …"
      ]
     },
     "metadata": {},
     "output_type": "display_data"
    }
   ],
   "source": [
    "t2[:1000].map_leaflet()"
   ]
  },
  {
   "cell_type": "code",
   "execution_count": 30,
   "metadata": {},
   "outputs": [
    {
     "data": {
      "application/vnd.jupyter.widget-view+json": {
       "model_id": "2868ba2e779d4aceb2ac1f61f2b72c7f",
       "version_major": 2,
       "version_minor": 0
      },
      "text/plain": [
       "Map(center=[48.4107844085895, 2.313075061195395], controls=(ZoomControl(options=['position', 'zoom_in_text', '…"
      ]
     },
     "metadata": {},
     "output_type": "display_data"
    }
   ],
   "source": [
    "t2_gen[:1000].map_leaflet()"
   ]
  },
  {
   "cell_type": "code",
   "execution_count": null,
   "metadata": {},
   "outputs": [],
   "source": [
    "t1[:1000].map_leaflet()"
   ]
  },
  {
   "cell_type": "code",
   "execution_count": null,
   "metadata": {},
   "outputs": [],
   "source": [
    "t1_gen[:1000].map_leaflet()"
   ]
  },
  {
   "attachments": {},
   "cell_type": "markdown",
   "metadata": {},
   "source": [
    "# Altitude profile comparison"
   ]
  },
  {
   "cell_type": "code",
   "execution_count": 5,
   "metadata": {},
   "outputs": [
    {
     "data": {
      "application/vnd.jupyter.widget-view+json": {
       "model_id": "3cb5e162b10d48108ce3611356148b95",
       "version_major": 2,
       "version_minor": 0
      },
      "text/plain": [
       "Output()"
      ]
     },
     "metadata": {},
     "output_type": "display_data"
    },
    {
     "name": "stderr",
     "output_type": "stream",
     "text": [
      "/cluster/home/kruu/miniconda3/envs/tcas/lib/python3.9/site-packages/traffic/core/lazy.py:231: TqdmExperimentalWarning: rich is experimental/alpha\n",
      "  tasks_completed = tqdm(\n"
     ]
    },
    {
     "data": {
      "text/html": [
       "<pre style=\"white-space:pre;overflow-x:auto;line-height:normal;font-family:Menlo,'DejaVu Sans Mono',consolas,'Courier New',monospace\"></pre>\n"
      ],
      "text/plain": []
     },
     "metadata": {},
     "output_type": "display_data"
    },
    {
     "data": {
      "text/html": [
       "<pre style=\"white-space:pre;overflow-x:auto;line-height:normal;font-family:Menlo,'DejaVu Sans Mono',consolas,'Courier New',monospace\">\n",
       "</pre>\n"
      ],
      "text/plain": [
       "\n"
      ]
     },
     "metadata": {},
     "output_type": "display_data"
    },
    {
     "data": {
      "application/vnd.jupyter.widget-view+json": {
       "model_id": "f57622cb418d46dbb1895eb18edbc867",
       "version_major": 2,
       "version_minor": 0
      },
      "text/plain": [
       "Output()"
      ]
     },
     "metadata": {},
     "output_type": "display_data"
    },
    {
     "name": "stderr",
     "output_type": "stream",
     "text": [
      "/cluster/home/kruu/miniconda3/envs/tcas/lib/python3.9/site-packages/traffic/core/lazy.py:231: TqdmExperimentalWarning: rich is experimental/alpha\n",
      "  tasks_completed = tqdm(\n"
     ]
    },
    {
     "data": {
      "text/html": [
       "<pre style=\"white-space:pre;overflow-x:auto;line-height:normal;font-family:Menlo,'DejaVu Sans Mono',consolas,'Courier New',monospace\"></pre>\n"
      ],
      "text/plain": []
     },
     "metadata": {},
     "output_type": "display_data"
    },
    {
     "data": {
      "text/html": [
       "<pre style=\"white-space:pre;overflow-x:auto;line-height:normal;font-family:Menlo,'DejaVu Sans Mono',consolas,'Courier New',monospace\">\n",
       "</pre>\n"
      ],
      "text/plain": [
       "\n"
      ]
     },
     "metadata": {},
     "output_type": "display_data"
    }
   ],
   "source": [
    "t1 = t1.iterate_lazy().cumulative_distance(reverse = True).eval(desc = \"\", max_workers = 50)\n",
    "t1_gen_short = t1_gen[:1000].iterate_lazy().cumulative_distance(reverse = True).eval(desc = \"\", max_workers = 50)"
   ]
  },
  {
   "cell_type": "code",
   "execution_count": 6,
   "metadata": {},
   "outputs": [
    {
     "data": {
      "application/vnd.jupyter.widget-view+json": {
       "model_id": "1186746f7e024d65b27bf41aa97892c5",
       "version_major": 2,
       "version_minor": 0
      },
      "text/plain": [
       "Output()"
      ]
     },
     "metadata": {},
     "output_type": "display_data"
    },
    {
     "name": "stderr",
     "output_type": "stream",
     "text": [
      "/cluster/home/kruu/miniconda3/envs/tcas/lib/python3.9/site-packages/traffic/core/lazy.py:231: TqdmExperimentalWarning: rich is experimental/alpha\n",
      "  tasks_completed = tqdm(\n"
     ]
    },
    {
     "data": {
      "text/html": [
       "<pre style=\"white-space:pre;overflow-x:auto;line-height:normal;font-family:Menlo,'DejaVu Sans Mono',consolas,'Courier New',monospace\"></pre>\n"
      ],
      "text/plain": []
     },
     "metadata": {},
     "output_type": "display_data"
    },
    {
     "data": {
      "text/html": [
       "<pre style=\"white-space:pre;overflow-x:auto;line-height:normal;font-family:Menlo,'DejaVu Sans Mono',consolas,'Courier New',monospace\">\n",
       "</pre>\n"
      ],
      "text/plain": [
       "\n"
      ]
     },
     "metadata": {},
     "output_type": "display_data"
    },
    {
     "data": {
      "application/vnd.jupyter.widget-view+json": {
       "model_id": "9a6ec23c04b04432b0b84bafa840e101",
       "version_major": 2,
       "version_minor": 0
      },
      "text/plain": [
       "Output()"
      ]
     },
     "metadata": {},
     "output_type": "display_data"
    },
    {
     "name": "stderr",
     "output_type": "stream",
     "text": [
      "/cluster/home/kruu/miniconda3/envs/tcas/lib/python3.9/site-packages/traffic/core/lazy.py:231: TqdmExperimentalWarning: rich is experimental/alpha\n",
      "  tasks_completed = tqdm(\n"
     ]
    },
    {
     "data": {
      "text/html": [
       "<pre style=\"white-space:pre;overflow-x:auto;line-height:normal;font-family:Menlo,'DejaVu Sans Mono',consolas,'Courier New',monospace\"></pre>\n"
      ],
      "text/plain": []
     },
     "metadata": {},
     "output_type": "display_data"
    },
    {
     "data": {
      "text/html": [
       "<pre style=\"white-space:pre;overflow-x:auto;line-height:normal;font-family:Menlo,'DejaVu Sans Mono',consolas,'Courier New',monospace\">\n",
       "</pre>\n"
      ],
      "text/plain": [
       "\n"
      ]
     },
     "metadata": {},
     "output_type": "display_data"
    }
   ],
   "source": [
    "t2 = t2.iterate_lazy().cumulative_distance().eval(desc = \"\", max_workers = 50)\n",
    "t2_gen_short = t2_gen[:1000].iterate_lazy().cumulative_distance().eval(desc = \"\", max_workers = 50)"
   ]
  },
  {
   "cell_type": "code",
   "execution_count": 5,
   "metadata": {},
   "outputs": [],
   "source": [
    "import altair as alt\n",
    "\n",
    "chart1 = alt.layer(\n",
    "    *(\n",
    "        flight.chart().encode(\n",
    "            x=alt.X(\n",
    "                \"cumdist\",\n",
    "                scale=alt.Scale(reverse=True),\n",
    "                title=\"Distance from start (in Nm)\",\n",
    "            ),\n",
    "            y=alt.Y(\"altitude\", title=None),\n",
    "            opacity=alt.value(0.2),\n",
    "            color=alt.value(\"#9ecae9\"),\n",
    "        )\n",
    "        for flight in t1[:500]\n",
    "    )\n",
    ").properties(\n",
    "    width=800,\n",
    "    height=300\n",
    ")\n",
    "\n",
    "chart2 = alt.layer(\n",
    "    *(\n",
    "        flight.chart().encode(\n",
    "            x=alt.X(\n",
    "                \"cumdist\",\n",
    "                scale=alt.Scale(reverse=True),\n",
    "                title=\"Distance from start (in Nm)\",\n",
    "            ),\n",
    "            y=alt.Y(\"altitude\", title=None),\n",
    "            opacity=alt.value(0.2),\n",
    "            color=alt.value(\"#ffbf79\"),\n",
    "        )\n",
    "        for flight in t1_gen_short[:500]\n",
    "    )\n",
    ").properties(\n",
    "    width=800,\n",
    "    height=300,\n",
    ")\n",
    "\n",
    "chart2 + chart1\n"
   ]
  },
  {
   "cell_type": "code",
   "execution_count": null,
   "metadata": {},
   "outputs": [],
   "source": [
    "chart3 = alt.layer(\n",
    "    *(\n",
    "        flight.chart().encode(\n",
    "            x=alt.X(\n",
    "                \"cumdist\",\n",
    "                title=\"Distance from start (in Nm)\",\n",
    "            ),\n",
    "            y=alt.Y(\"altitude\", title=None),\n",
    "            opacity=alt.value(0.2),\n",
    "            color=alt.value(\"#9ecae9\"),\n",
    "        )\n",
    "        for flight in t2[:500]\n",
    "    )\n",
    ").properties(\n",
    "    width=800,\n",
    "    height=300\n",
    ")\n",
    "\n",
    "chart4 = alt.layer(\n",
    "    *(\n",
    "        flight.chart().encode(\n",
    "            x=alt.X(\n",
    "                \"cumdist\",\n",
    "                title=\"Distance from start (in Nm)\",\n",
    "            ),\n",
    "            y=alt.Y(\"altitude\", title=None),\n",
    "            opacity=alt.value(0.2),\n",
    "            color=alt.value(\"#ffbf79\"),\n",
    "        )\n",
    "        for flight in t2_gen_short[:500]\n",
    "    )\n",
    ").properties(\n",
    "    width=800,\n",
    "    height=300,\n",
    ")\n",
    "\n",
    "chart4+chart3"
   ]
  },
  {
   "cell_type": "code",
   "execution_count": 17,
   "metadata": {},
   "outputs": [
    {
     "data": {
      "application/vnd.jupyter.widget-view+json": {
       "model_id": "c8236adf38fe4f76aeaa3c0e7f1862fb",
       "version_major": 2,
       "version_minor": 0
      },
      "text/plain": [
       "Map(center=[48.7233333, 2.3794444], controls=(ZoomControl(options=['position', 'zoom_in_text', 'zoom_in_title'…"
      ]
     },
     "metadata": {},
     "output_type": "display_data"
    }
   ],
   "source": [
    "from ipyleaflet import Map, basemaps, Marker, MarkerCluster, Polygon, AwesomeIcon\n",
    "from ipywidgets import Layout\n",
    "from traffic.data import airports\n",
    "\n",
    "map_ = Map(\n",
    "    center=airports[\"LFPO\"].latlon,\n",
    "    zoom=10,\n",
    "    basemap=basemaps.Stamen.Terrain,\n",
    "    layout=Layout(width=\"100%\", height=\"1000px\"),\n",
    ")\n",
    "\n",
    "polygon1 = Polygon(\n",
    "    locations=[(48.60, 2.20), (48.50, 2.20), (48.50, 2.30), (48.60,2.30)],\n",
    "    color=\"#4c78a8\",\n",
    "    fill_color=\"#4c78a8\"\n",
    ")\n",
    "map_.add_layer(polygon1)\n",
    "\n",
    "map_"
   ]
  },
  {
   "attachments": {},
   "cell_type": "markdown",
   "metadata": {},
   "source": [
    "For takeoffs: \n",
    "\n",
    "- PO301: MAX FL100 : 48°28'43.2\"N  002°18'57.6\"E\n",
    "- PO300: MAX FL100 : 48°29'37.9\"N  002°22'3.1\"E\n",
    "\n",
    "Donc dans la bbox du dessus, on est avant les navpoints, et donc on doit être bien en dessous du FL100. Donc on doit enlever tous les takeoffs qui sont au dessus du FL100 au niveau des PO300 / PO301"
   ]
  },
  {
   "cell_type": "code",
   "execution_count": 26,
   "metadata": {},
   "outputs": [
    {
     "data": {
      "image/png": "[encoded data removed]",
      "text/plain": [
       "<Figure size 640x480 with 1 Axes>"
      ]
     },
     "metadata": {},
     "output_type": "display_data"
    }
   ],
   "source": [
    "#Comparison of true altitdue and generated altitude around arpajon of takeoffs\n",
    "plt.hist(t2[:1500].inside_bbox((2.20, 48.50, 2.30, 48.6)).data.altitude, bins = 50, alpha = 0.5)\n",
    "plt.hist(t2_gen[:1500].inside_bbox((2.20, 48.50, 2.30, 48.6)).data.altitude, bins = 50, alpha = 0.5)\n",
    "plt.show()"
   ]
  },
  {
   "cell_type": "code",
   "execution_count": 25,
   "metadata": {},
   "outputs": [
    {
     "data": {
      "image/png": "[encoded data removed]",
      "text/plain": [
       "<Figure size 640x480 with 1 Axes>"
      ]
     },
     "metadata": {},
     "output_type": "display_data"
    }
   ],
   "source": [
    "#Comparison of true altitdue and generated altitude around arpajon of takeoffs\n",
    "plt.hist(t1[:1500].inside_bbox((2.20, 48.50, 2.30, 48.6)).data.altitude, bins = 50, alpha = 0.5)\n",
    "plt.hist(t1_gen[:1500].inside_bbox((2.20, 48.50, 2.30, 48.6)).data.altitude, bins = 50, alpha = 0.5)\n",
    "plt.show()"
   ]
  },
  {
   "cell_type": "code",
   "execution_count": null,
   "metadata": {},
   "outputs": [],
   "source": []
  }
 ],
 "metadata": {
  "kernelspec": {
   "display_name": "tcas",
   "language": "python",
   "name": "python3"
  },
  "language_info": {
   "codemirror_mode": {
    "name": "ipython",
    "version": 3
   },
   "file_extension": ".py",
   "mimetype": "text/x-python",
   "name": "python",
   "nbconvert_exporter": "python",
   "pygments_lexer": "ipython3",
   "version": "3.9.13 | packaged by conda-forge | (main, May 27 2022, 16:56:21) \n[GCC 10.3.0]"
  },
  "orig_nbformat": 4,
  "vscode": {
   "interpreter": {
    "hash": "0a6671a896d78c2485d323f2ffc62bdd1325d269c4236792e18439313d8ecb79"
   }
  }
 },
 "nbformat": 4,
 "nbformat_minor": 2
}
